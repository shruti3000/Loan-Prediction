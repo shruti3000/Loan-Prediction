{
  "nbformat": 4,
  "nbformat_minor": 0,
  "metadata": {
    "kernelspec": {
      "display_name": "Python 3",
      "language": "python",
      "name": "python3"
    },
    "language_info": {
      "codemirror_mode": {
        "name": "ipython",
        "version": 3
      },
      "file_extension": ".py",
      "mimetype": "text/x-python",
      "name": "python",
      "nbconvert_exporter": "python",
      "pygments_lexer": "ipython3",
      "version": "3.8.8"
    },
    "colab": {
      "name": "LoanPrediction.ipynb",
      "provenance": [],
      "include_colab_link": true
    }
  },
  "cells": [
    {
      "cell_type": "markdown",
      "metadata": {
        "id": "view-in-github",
        "colab_type": "text"
      },
      "source": [
        "<a href=\"https://colab.research.google.com/github/shruti3000/Loan-Prediction/blob/main/LoanPrediction.ipynb\" target=\"_parent\"><img src=\"https://colab.research.google.com/assets/colab-badge.svg\" alt=\"Open In Colab\"/></a>"
      ]
    },
    {
      "cell_type": "markdown",
      "metadata": {
        "id": "hydo5RCcjase"
      },
      "source": [
        "# **Loan Prediction**"
      ]
    },
    {
      "cell_type": "markdown",
      "metadata": {
        "id": "XaT26lxvjasg"
      },
      "source": [
        "![](data:image/jpeg;base64,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)"
      ]
    },
    {
      "cell_type": "markdown",
      "metadata": {
        "id": "A1K4XX8Njasi"
      },
      "source": [
        "### Importing required library(as per need)"
      ]
    },
    {
      "cell_type": "code",
      "metadata": {
        "colab": {
          "base_uri": "https://localhost:8080/"
        },
        "id": "fRg1XKfHjasj",
        "outputId": "05b2a548-0b48-402f-fb7f-c3fe0a379c72"
      },
      "source": [
        "import pandas as pd\n",
        "import numpy as np\n",
        "import matplotlib.pyplot as plt\n",
        "import warnings\n",
        "import sys\n",
        "!{sys.executable} -m pip install xgboost\n",
        "warnings.simplefilter(action='ignore', category=FutureWarning)\n",
        "%matplotlib inline"
      ],
      "execution_count": null,
      "outputs": [
        {
          "output_type": "stream",
          "name": "stdout",
          "text": [
            "Requirement already satisfied: xgboost in /usr/local/lib/python3.7/dist-packages (0.90)\n",
            "Requirement already satisfied: scipy in /usr/local/lib/python3.7/dist-packages (from xgboost) (1.4.1)\n",
            "Requirement already satisfied: numpy in /usr/local/lib/python3.7/dist-packages (from xgboost) (1.19.5)\n"
          ]
        }
      ]
    },
    {
      "cell_type": "markdown",
      "metadata": {
        "id": "dynbXV1yjask"
      },
      "source": [
        "### Loading and Reading the Dataset"
      ]
    },
    {
      "cell_type": "code",
      "metadata": {
        "id": "BVX0A2LGjask"
      },
      "source": [
        "loan_data = pd.read_csv(\"/content/Loan_dataset.csv\")"
      ],
      "execution_count": null,
      "outputs": []
    },
    {
      "cell_type": "code",
      "metadata": {
        "colab": {
          "base_uri": "https://localhost:8080/",
          "height": 240
        },
        "id": "DjFro4IAjasl",
        "outputId": "d494cbbe-4097-4fe2-cca8-d84111d090d9"
      },
      "source": [
        "loan_data.head()"
      ],
      "execution_count": null,
      "outputs": [
        {
          "output_type": "execute_result",
          "data": {
            "text/html": [
              "<div>\n",
              "<style scoped>\n",
              "    .dataframe tbody tr th:only-of-type {\n",
              "        vertical-align: middle;\n",
              "    }\n",
              "\n",
              "    .dataframe tbody tr th {\n",
              "        vertical-align: top;\n",
              "    }\n",
              "\n",
              "    .dataframe thead th {\n",
              "        text-align: right;\n",
              "    }\n",
              "</style>\n",
              "<table border=\"1\" class=\"dataframe\">\n",
              "  <thead>\n",
              "    <tr style=\"text-align: right;\">\n",
              "      <th></th>\n",
              "      <th>Loan_ID</th>\n",
              "      <th>Gender</th>\n",
              "      <th>Married</th>\n",
              "      <th>Dependents</th>\n",
              "      <th>Education</th>\n",
              "      <th>Self_Employed</th>\n",
              "      <th>ApplicantIncome</th>\n",
              "      <th>CoapplicantIncome</th>\n",
              "      <th>LoanAmount</th>\n",
              "      <th>Loan_Amount_Term</th>\n",
              "      <th>Credit_History</th>\n",
              "      <th>Property_Area</th>\n",
              "      <th>Loan_Status</th>\n",
              "    </tr>\n",
              "  </thead>\n",
              "  <tbody>\n",
              "    <tr>\n",
              "      <th>0</th>\n",
              "      <td>LP001002</td>\n",
              "      <td>Male</td>\n",
              "      <td>No</td>\n",
              "      <td>0</td>\n",
              "      <td>Graduate</td>\n",
              "      <td>No</td>\n",
              "      <td>5849</td>\n",
              "      <td>0.0</td>\n",
              "      <td>NaN</td>\n",
              "      <td>360.0</td>\n",
              "      <td>1.0</td>\n",
              "      <td>Urban</td>\n",
              "      <td>Y</td>\n",
              "    </tr>\n",
              "    <tr>\n",
              "      <th>1</th>\n",
              "      <td>LP001003</td>\n",
              "      <td>Male</td>\n",
              "      <td>Yes</td>\n",
              "      <td>1</td>\n",
              "      <td>Graduate</td>\n",
              "      <td>No</td>\n",
              "      <td>4583</td>\n",
              "      <td>1508.0</td>\n",
              "      <td>128.0</td>\n",
              "      <td>360.0</td>\n",
              "      <td>1.0</td>\n",
              "      <td>Rural</td>\n",
              "      <td>N</td>\n",
              "    </tr>\n",
              "    <tr>\n",
              "      <th>2</th>\n",
              "      <td>LP001005</td>\n",
              "      <td>Male</td>\n",
              "      <td>Yes</td>\n",
              "      <td>0</td>\n",
              "      <td>Graduate</td>\n",
              "      <td>Yes</td>\n",
              "      <td>3000</td>\n",
              "      <td>0.0</td>\n",
              "      <td>66.0</td>\n",
              "      <td>360.0</td>\n",
              "      <td>1.0</td>\n",
              "      <td>Urban</td>\n",
              "      <td>Y</td>\n",
              "    </tr>\n",
              "    <tr>\n",
              "      <th>3</th>\n",
              "      <td>LP001006</td>\n",
              "      <td>Male</td>\n",
              "      <td>Yes</td>\n",
              "      <td>0</td>\n",
              "      <td>Not Graduate</td>\n",
              "      <td>No</td>\n",
              "      <td>2583</td>\n",
              "      <td>2358.0</td>\n",
              "      <td>120.0</td>\n",
              "      <td>360.0</td>\n",
              "      <td>1.0</td>\n",
              "      <td>Urban</td>\n",
              "      <td>Y</td>\n",
              "    </tr>\n",
              "    <tr>\n",
              "      <th>4</th>\n",
              "      <td>LP001008</td>\n",
              "      <td>Male</td>\n",
              "      <td>No</td>\n",
              "      <td>0</td>\n",
              "      <td>Graduate</td>\n",
              "      <td>No</td>\n",
              "      <td>6000</td>\n",
              "      <td>0.0</td>\n",
              "      <td>141.0</td>\n",
              "      <td>360.0</td>\n",
              "      <td>1.0</td>\n",
              "      <td>Urban</td>\n",
              "      <td>Y</td>\n",
              "    </tr>\n",
              "  </tbody>\n",
              "</table>\n",
              "</div>"
            ],
            "text/plain": [
              "    Loan_ID Gender Married  ... Credit_History Property_Area Loan_Status\n",
              "0  LP001002   Male      No  ...            1.0         Urban           Y\n",
              "1  LP001003   Male     Yes  ...            1.0         Rural           N\n",
              "2  LP001005   Male     Yes  ...            1.0         Urban           Y\n",
              "3  LP001006   Male     Yes  ...            1.0         Urban           Y\n",
              "4  LP001008   Male      No  ...            1.0         Urban           Y\n",
              "\n",
              "[5 rows x 13 columns]"
            ]
          },
          "metadata": {},
          "execution_count": 890
        }
      ]
    },
    {
      "cell_type": "code",
      "metadata": {
        "colab": {
          "base_uri": "https://localhost:8080/"
        },
        "id": "4Fdj2BjYjasl",
        "outputId": "76825df0-9158-4d6c-d2ae-f4c6cf2b936a"
      },
      "source": [
        "loan_data.shape"
      ],
      "execution_count": null,
      "outputs": [
        {
          "output_type": "execute_result",
          "data": {
            "text/plain": [
              "(614, 13)"
            ]
          },
          "metadata": {},
          "execution_count": 891
        }
      ]
    },
    {
      "cell_type": "markdown",
      "metadata": {
        "id": "pKAG3pmhjasm"
      },
      "source": [
        "it conatins 615 rows and 13 columns.<br/>\n",
        "The most important columns are:<br/>\n",
        "-- Loan Amount,<br/>\n",
        "-- Loan Amount term,<br/>\n",
        "-- and Loan status (Yes or no).<br/>\n",
        "\n",
        "loan_data['Loan Status']=Y(if applicant is eligible for loan)<br/>\n",
        "loan_data['Loan Status']=N(if applicant is not eligible for loan)<br/>"
      ]
    },
    {
      "cell_type": "code",
      "metadata": {
        "colab": {
          "base_uri": "https://localhost:8080/"
        },
        "id": "ArZXevWcjasm",
        "outputId": "8ab027ea-e675-41a0-e06c-383d7a68ddb3"
      },
      "source": [
        "loan_data.info()\n",
        "# to understand the datatypes of the columns and match with general understanding"
      ],
      "execution_count": null,
      "outputs": [
        {
          "output_type": "stream",
          "name": "stdout",
          "text": [
            "<class 'pandas.core.frame.DataFrame'>\n",
            "RangeIndex: 614 entries, 0 to 613\n",
            "Data columns (total 13 columns):\n",
            " #   Column             Non-Null Count  Dtype  \n",
            "---  ------             --------------  -----  \n",
            " 0   Loan_ID            614 non-null    object \n",
            " 1   Gender             601 non-null    object \n",
            " 2   Married            611 non-null    object \n",
            " 3   Dependents         599 non-null    object \n",
            " 4   Education          614 non-null    object \n",
            " 5   Self_Employed      582 non-null    object \n",
            " 6   ApplicantIncome    614 non-null    int64  \n",
            " 7   CoapplicantIncome  614 non-null    float64\n",
            " 8   LoanAmount         592 non-null    float64\n",
            " 9   Loan_Amount_Term   600 non-null    float64\n",
            " 10  Credit_History     564 non-null    float64\n",
            " 11  Property_Area      614 non-null    object \n",
            " 12  Loan_Status        614 non-null    object \n",
            "dtypes: float64(4), int64(1), object(8)\n",
            "memory usage: 62.5+ KB\n"
          ]
        }
      ]
    },
    {
      "cell_type": "markdown",
      "metadata": {
        "id": "DLyduYVWjasn"
      },
      "source": [
        "# EDA"
      ]
    },
    {
      "cell_type": "markdown",
      "metadata": {
        "id": "ez1ztx85jasn"
      },
      "source": [
        " ### Data Cleaning and filling missing values in the Dataset "
      ]
    },
    {
      "cell_type": "code",
      "metadata": {
        "colab": {
          "base_uri": "https://localhost:8080/"
        },
        "id": "FOxozH16jasn",
        "outputId": "27b34a82-2556-4840-f64a-cfa57e1aeea7"
      },
      "source": [
        "# checking missing values in each column of train dataset\n",
        "loan_data.isnull().sum()"
      ],
      "execution_count": null,
      "outputs": [
        {
          "output_type": "execute_result",
          "data": {
            "text/plain": [
              "Loan_ID               0\n",
              "Gender               13\n",
              "Married               3\n",
              "Dependents           15\n",
              "Education             0\n",
              "Self_Employed        32\n",
              "ApplicantIncome       0\n",
              "CoapplicantIncome     0\n",
              "LoanAmount           22\n",
              "Loan_Amount_Term     14\n",
              "Credit_History       50\n",
              "Property_Area         0\n",
              "Loan_Status           0\n",
              "dtype: int64"
            ]
          },
          "metadata": {},
          "execution_count": 893
        }
      ]
    },
    {
      "cell_type": "code",
      "metadata": {
        "colab": {
          "base_uri": "https://localhost:8080/"
        },
        "id": "8CSRsSW-jaso",
        "outputId": "85b81e96-563c-401f-af95-764af4bc7fc2"
      },
      "source": [
        "loan_data['Gender'].value_counts()"
      ],
      "execution_count": null,
      "outputs": [
        {
          "output_type": "execute_result",
          "data": {
            "text/plain": [
              "Male      489\n",
              "Female    112\n",
              "Name: Gender, dtype: int64"
            ]
          },
          "metadata": {},
          "execution_count": 894
        }
      ]
    },
    {
      "cell_type": "code",
      "metadata": {
        "id": "h4z_vi4ujaso"
      },
      "source": [
        "loan_data['Gender'] = loan_data.Gender.fillna('Male')"
      ],
      "execution_count": null,
      "outputs": []
    },
    {
      "cell_type": "code",
      "metadata": {
        "colab": {
          "base_uri": "https://localhost:8080/"
        },
        "id": "xXJLJxR3jaso",
        "outputId": "edfc8ddb-b902-49c5-bcfc-f37cdf6ec5ea"
      },
      "source": [
        "loan_data['Married'].value_counts()"
      ],
      "execution_count": null,
      "outputs": [
        {
          "output_type": "execute_result",
          "data": {
            "text/plain": [
              "Yes    398\n",
              "No     213\n",
              "Name: Married, dtype: int64"
            ]
          },
          "metadata": {},
          "execution_count": 896
        }
      ]
    },
    {
      "cell_type": "code",
      "metadata": {
        "id": "1dZ9h6qgjaso"
      },
      "source": [
        "loan_data['Married'] = loan_data['Married'].fillna('Yes')"
      ],
      "execution_count": null,
      "outputs": []
    },
    {
      "cell_type": "code",
      "metadata": {
        "colab": {
          "base_uri": "https://localhost:8080/"
        },
        "id": "KVrpXGG6jasp",
        "outputId": "89dab378-c333-4ef6-b05b-14f972c5aff9"
      },
      "source": [
        "loan_data['Dependents'].value_counts()"
      ],
      "execution_count": null,
      "outputs": [
        {
          "output_type": "execute_result",
          "data": {
            "text/plain": [
              "0     345\n",
              "1     102\n",
              "2     101\n",
              "3+     51\n",
              "Name: Dependents, dtype: int64"
            ]
          },
          "metadata": {},
          "execution_count": 898
        }
      ]
    },
    {
      "cell_type": "code",
      "metadata": {
        "id": "XUAMINCujasp"
      },
      "source": [
        "loan_data['Dependents'] = loan_data['Dependents'].fillna('0')"
      ],
      "execution_count": null,
      "outputs": []
    },
    {
      "cell_type": "code",
      "metadata": {
        "colab": {
          "base_uri": "https://localhost:8080/"
        },
        "id": "lI2hiUYljasp",
        "outputId": "159aee2b-db7e-4348-981d-f8792551447d"
      },
      "source": [
        "loan_data['Self_Employed'].value_counts()"
      ],
      "execution_count": null,
      "outputs": [
        {
          "output_type": "execute_result",
          "data": {
            "text/plain": [
              "No     500\n",
              "Yes     82\n",
              "Name: Self_Employed, dtype: int64"
            ]
          },
          "metadata": {},
          "execution_count": 900
        }
      ]
    },
    {
      "cell_type": "code",
      "metadata": {
        "id": "QTIOM-e6jasp"
      },
      "source": [
        "loan_data['Self_Employed'] = loan_data['Self_Employed'].fillna('No')"
      ],
      "execution_count": null,
      "outputs": []
    },
    {
      "cell_type": "code",
      "metadata": {
        "id": "oIosOCuVjasq"
      },
      "source": [
        "loan_data.LoanAmount = loan_data['LoanAmount'].fillna(loan_data.LoanAmount.mean())"
      ],
      "execution_count": null,
      "outputs": []
    },
    {
      "cell_type": "code",
      "metadata": {
        "colab": {
          "base_uri": "https://localhost:8080/"
        },
        "id": "Fz2-Ss9ujasq",
        "outputId": "395ffbde-5b80-4e2f-f7a5-682403ff73c7"
      },
      "source": [
        "loan_data['Loan_Amount_Term'].value_counts()"
      ],
      "execution_count": null,
      "outputs": [
        {
          "output_type": "execute_result",
          "data": {
            "text/plain": [
              "360.0    512\n",
              "180.0     44\n",
              "480.0     15\n",
              "300.0     13\n",
              "84.0       4\n",
              "240.0      4\n",
              "120.0      3\n",
              "36.0       2\n",
              "60.0       2\n",
              "12.0       1\n",
              "Name: Loan_Amount_Term, dtype: int64"
            ]
          },
          "metadata": {},
          "execution_count": 903
        }
      ]
    },
    {
      "cell_type": "code",
      "metadata": {
        "id": "6TxE18Gyjasq"
      },
      "source": [
        "loan_data['Loan_Amount_Term'] = loan_data['Loan_Amount_Term'].fillna(360.0)"
      ],
      "execution_count": null,
      "outputs": []
    },
    {
      "cell_type": "code",
      "metadata": {
        "colab": {
          "base_uri": "https://localhost:8080/"
        },
        "id": "yzEmJhtXjasq",
        "outputId": "80af7f4f-d82f-4757-ae91-897662e878d6"
      },
      "source": [
        "loan_data['Credit_History'].value_counts()"
      ],
      "execution_count": null,
      "outputs": [
        {
          "output_type": "execute_result",
          "data": {
            "text/plain": [
              "1.0    475\n",
              "0.0     89\n",
              "Name: Credit_History, dtype: int64"
            ]
          },
          "metadata": {},
          "execution_count": 905
        }
      ]
    },
    {
      "cell_type": "code",
      "metadata": {
        "id": "Sf2BLk1wjasq"
      },
      "source": [
        "loan_data['Credit_History'] = loan_data['Credit_History'].fillna(1.0)"
      ],
      "execution_count": null,
      "outputs": []
    },
    {
      "cell_type": "markdown",
      "metadata": {
        "id": "IYB-2JJojasr"
      },
      "source": [
        "### Now again checking if there are still any columns that contain missing value"
      ]
    },
    {
      "cell_type": "code",
      "metadata": {
        "colab": {
          "base_uri": "https://localhost:8080/"
        },
        "id": "4pyd4Wypjasr",
        "outputId": "03452346-0f22-4360-bd68-94fb87f75fb6"
      },
      "source": [
        "loan_data.isnull().sum()"
      ],
      "execution_count": null,
      "outputs": [
        {
          "output_type": "execute_result",
          "data": {
            "text/plain": [
              "Loan_ID              0\n",
              "Gender               0\n",
              "Married              0\n",
              "Dependents           0\n",
              "Education            0\n",
              "Self_Employed        0\n",
              "ApplicantIncome      0\n",
              "CoapplicantIncome    0\n",
              "LoanAmount           0\n",
              "Loan_Amount_Term     0\n",
              "Credit_History       0\n",
              "Property_Area        0\n",
              "Loan_Status          0\n",
              "dtype: int64"
            ]
          },
          "metadata": {},
          "execution_count": 907
        }
      ]
    },
    {
      "cell_type": "code",
      "metadata": {
        "colab": {
          "base_uri": "https://localhost:8080/"
        },
        "id": "ecL6xcNxteOf",
        "outputId": "c5544839-4314-4c34-db7e-a21f4419909c"
      },
      "source": [
        "loan_data.nunique()"
      ],
      "execution_count": null,
      "outputs": [
        {
          "output_type": "execute_result",
          "data": {
            "text/plain": [
              "Loan_ID              614\n",
              "Gender                 2\n",
              "Married                2\n",
              "Dependents             4\n",
              "Education              2\n",
              "Self_Employed          2\n",
              "ApplicantIncome      505\n",
              "CoapplicantIncome    287\n",
              "LoanAmount           204\n",
              "Loan_Amount_Term      10\n",
              "Credit_History         2\n",
              "Property_Area          3\n",
              "Loan_Status            2\n",
              "dtype: int64"
            ]
          },
          "metadata": {},
          "execution_count": 908
        }
      ]
    },
    {
      "cell_type": "code",
      "metadata": {
        "colab": {
          "base_uri": "https://localhost:8080/"
        },
        "id": "4X_CRVuRuldr",
        "outputId": "0ce64041-3e49-4d37-e606-5f49a0333e56"
      },
      "source": [
        "loan_data['Property_Area'].unique()"
      ],
      "execution_count": null,
      "outputs": [
        {
          "output_type": "execute_result",
          "data": {
            "text/plain": [
              "array(['Urban', 'Rural', 'Semiurban'], dtype=object)"
            ]
          },
          "metadata": {},
          "execution_count": 909
        }
      ]
    },
    {
      "cell_type": "code",
      "metadata": {
        "colab": {
          "base_uri": "https://localhost:8080/",
          "height": 240
        },
        "id": "X14m5yyDjasr",
        "outputId": "c3e319ce-abf5-4729-dbd1-5055189c7237"
      },
      "source": [
        "loan_data.head()"
      ],
      "execution_count": null,
      "outputs": [
        {
          "output_type": "execute_result",
          "data": {
            "text/html": [
              "<div>\n",
              "<style scoped>\n",
              "    .dataframe tbody tr th:only-of-type {\n",
              "        vertical-align: middle;\n",
              "    }\n",
              "\n",
              "    .dataframe tbody tr th {\n",
              "        vertical-align: top;\n",
              "    }\n",
              "\n",
              "    .dataframe thead th {\n",
              "        text-align: right;\n",
              "    }\n",
              "</style>\n",
              "<table border=\"1\" class=\"dataframe\">\n",
              "  <thead>\n",
              "    <tr style=\"text-align: right;\">\n",
              "      <th></th>\n",
              "      <th>Loan_ID</th>\n",
              "      <th>Gender</th>\n",
              "      <th>Married</th>\n",
              "      <th>Dependents</th>\n",
              "      <th>Education</th>\n",
              "      <th>Self_Employed</th>\n",
              "      <th>ApplicantIncome</th>\n",
              "      <th>CoapplicantIncome</th>\n",
              "      <th>LoanAmount</th>\n",
              "      <th>Loan_Amount_Term</th>\n",
              "      <th>Credit_History</th>\n",
              "      <th>Property_Area</th>\n",
              "      <th>Loan_Status</th>\n",
              "    </tr>\n",
              "  </thead>\n",
              "  <tbody>\n",
              "    <tr>\n",
              "      <th>0</th>\n",
              "      <td>LP001002</td>\n",
              "      <td>Male</td>\n",
              "      <td>No</td>\n",
              "      <td>0</td>\n",
              "      <td>Graduate</td>\n",
              "      <td>No</td>\n",
              "      <td>5849</td>\n",
              "      <td>0.0</td>\n",
              "      <td>146.412162</td>\n",
              "      <td>360.0</td>\n",
              "      <td>1.0</td>\n",
              "      <td>Urban</td>\n",
              "      <td>Y</td>\n",
              "    </tr>\n",
              "    <tr>\n",
              "      <th>1</th>\n",
              "      <td>LP001003</td>\n",
              "      <td>Male</td>\n",
              "      <td>Yes</td>\n",
              "      <td>1</td>\n",
              "      <td>Graduate</td>\n",
              "      <td>No</td>\n",
              "      <td>4583</td>\n",
              "      <td>1508.0</td>\n",
              "      <td>128.000000</td>\n",
              "      <td>360.0</td>\n",
              "      <td>1.0</td>\n",
              "      <td>Rural</td>\n",
              "      <td>N</td>\n",
              "    </tr>\n",
              "    <tr>\n",
              "      <th>2</th>\n",
              "      <td>LP001005</td>\n",
              "      <td>Male</td>\n",
              "      <td>Yes</td>\n",
              "      <td>0</td>\n",
              "      <td>Graduate</td>\n",
              "      <td>Yes</td>\n",
              "      <td>3000</td>\n",
              "      <td>0.0</td>\n",
              "      <td>66.000000</td>\n",
              "      <td>360.0</td>\n",
              "      <td>1.0</td>\n",
              "      <td>Urban</td>\n",
              "      <td>Y</td>\n",
              "    </tr>\n",
              "    <tr>\n",
              "      <th>3</th>\n",
              "      <td>LP001006</td>\n",
              "      <td>Male</td>\n",
              "      <td>Yes</td>\n",
              "      <td>0</td>\n",
              "      <td>Not Graduate</td>\n",
              "      <td>No</td>\n",
              "      <td>2583</td>\n",
              "      <td>2358.0</td>\n",
              "      <td>120.000000</td>\n",
              "      <td>360.0</td>\n",
              "      <td>1.0</td>\n",
              "      <td>Urban</td>\n",
              "      <td>Y</td>\n",
              "    </tr>\n",
              "    <tr>\n",
              "      <th>4</th>\n",
              "      <td>LP001008</td>\n",
              "      <td>Male</td>\n",
              "      <td>No</td>\n",
              "      <td>0</td>\n",
              "      <td>Graduate</td>\n",
              "      <td>No</td>\n",
              "      <td>6000</td>\n",
              "      <td>0.0</td>\n",
              "      <td>141.000000</td>\n",
              "      <td>360.0</td>\n",
              "      <td>1.0</td>\n",
              "      <td>Urban</td>\n",
              "      <td>Y</td>\n",
              "    </tr>\n",
              "  </tbody>\n",
              "</table>\n",
              "</div>"
            ],
            "text/plain": [
              "    Loan_ID Gender Married  ... Credit_History Property_Area Loan_Status\n",
              "0  LP001002   Male      No  ...            1.0         Urban           Y\n",
              "1  LP001003   Male     Yes  ...            1.0         Rural           N\n",
              "2  LP001005   Male     Yes  ...            1.0         Urban           Y\n",
              "3  LP001006   Male     Yes  ...            1.0         Urban           Y\n",
              "4  LP001008   Male      No  ...            1.0         Urban           Y\n",
              "\n",
              "[5 rows x 13 columns]"
            ]
          },
          "metadata": {},
          "execution_count": 910
        }
      ]
    },
    {
      "cell_type": "markdown",
      "metadata": {
        "id": "9A_4eigZjasr"
      },
      "source": [
        "### <b> Percentage of Not-Eligible and Eligible Applicants"
      ]
    },
    {
      "cell_type": "code",
      "metadata": {
        "colab": {
          "base_uri": "https://localhost:8080/"
        },
        "id": "lgfyOpaUjasr",
        "outputId": "79aa1b4d-9c81-4693-ea9c-db9faa33dead"
      },
      "source": [
        "nfcount=0\n",
        "notApp=loan_data['Loan_Status']\n",
        "for i in range(len(notApp)):\n",
        "  if notApp[i]==\"N\":\n",
        "    nfcount=nfcount+1\n",
        "\n",
        "nfcount    \n",
        "per_nf=(nfcount/len(notApp))*100\n",
        "print('percentage of total not eligible in the dataset: ',per_nf)\n",
        "print('Percentage of total (eligible) Candidates in the training Dataset: ',100-per_nf)"
      ],
      "execution_count": null,
      "outputs": [
        {
          "output_type": "stream",
          "name": "stdout",
          "text": [
            "percentage of total not eligible in the dataset:  31.27035830618892\n",
            "Percentage of total (eligible) Candidates in the training Dataset:  68.72964169381108\n"
          ]
        }
      ]
    },
    {
      "cell_type": "markdown",
      "metadata": {
        "id": "p4H9nI_tjasr"
      },
      "source": [
        "### Now since we are done with doing with doing Exploratory Data Analysis and Data Cleaning\n",
        "Now we will move to Training the model on our Dataset"
      ]
    },
    {
      "cell_type": "markdown",
      "metadata": {
        "id": "ja0Mg5QQjass"
      },
      "source": [
        "### <b>Split the dataset<br>"
      ]
    },
    {
      "cell_type": "code",
      "metadata": {
        "id": "JbGd95disuga"
      },
      "source": [
        "loan_data['Gender'].replace({'Male':1, 'Female':0},inplace=True)\n",
        "loan_data['Married'].replace({'Yes':1, 'No':0},inplace=True)\n",
        "loan_data['Dependents'].replace({'1':1, '0':0,'2':2,'3+':3},inplace=True)\n",
        "loan_data['Education'].replace({'Graduate':1, 'Not Graduate':0},inplace=True)\n",
        "loan_data['Self_Employed'].replace({'Yes':1, 'No':0},inplace=True)\n",
        "loan_data['Property_Area'].replace({'Rural':1, 'Urban':0,'Semiurban':2},inplace=True)\n",
        "loan_data['Loan_Status'].replace({'Y':1, 'N':0},inplace=True)\n",
        "ld = loan_data.drop(columns=[\"Loan_ID\"])"
      ],
      "execution_count": null,
      "outputs": []
    },
    {
      "cell_type": "code",
      "metadata": {
        "id": "2AokxtC-jass"
      },
      "source": [
        "x=ld.drop(columns=[\"Loan_Status\"])\n",
        "y=ld['Loan_Status']"
      ],
      "execution_count": null,
      "outputs": []
    },
    {
      "cell_type": "code",
      "metadata": {
        "id": "Q9Y8Io9Qjass"
      },
      "source": [
        "# Splitting the dataset into the Training set and Test set\n",
        "from sklearn.model_selection import train_test_split\n",
        "xtrain, xtest, ytrain, ytest = train_test_split(x, y, test_size = 1/3, random_state = 0)"
      ],
      "execution_count": null,
      "outputs": []
    },
    {
      "cell_type": "markdown",
      "metadata": {
        "id": "uKrDn_Jpjast"
      },
      "source": [
        "# Classification Algorithms"
      ]
    },
    {
      "cell_type": "markdown",
      "metadata": {
        "id": "WCKWIP8zjasv"
      },
      "source": [
        "## Logistic Regression"
      ]
    },
    {
      "cell_type": "code",
      "metadata": {
        "colab": {
          "base_uri": "https://localhost:8080/"
        },
        "id": "S2roqIbOjasv",
        "outputId": "2531d154-6359-4dae-ecd2-8953442aba4d"
      },
      "source": [
        "# Fitting Logistic Regression to the Training set\n",
        "from sklearn.linear_model import LogisticRegression\n",
        "LR = LogisticRegression(random_state = 0)\n",
        "LR.fit(xtrain, ytrain)"
      ],
      "execution_count": null,
      "outputs": [
        {
          "output_type": "execute_result",
          "data": {
            "text/plain": [
              "LogisticRegression(C=1.0, class_weight=None, dual=False, fit_intercept=True,\n",
              "                   intercept_scaling=1, l1_ratio=None, max_iter=100,\n",
              "                   multi_class='auto', n_jobs=None, penalty='l2',\n",
              "                   random_state=0, solver='lbfgs', tol=0.0001, verbose=0,\n",
              "                   warm_start=False)"
            ]
          },
          "metadata": {},
          "execution_count": 915
        }
      ]
    },
    {
      "cell_type": "code",
      "metadata": {
        "id": "jS_v59Jijasv"
      },
      "source": [
        "# Predicting the Test set results\n",
        "ypred = LR.predict(xtest)"
      ],
      "execution_count": null,
      "outputs": []
    },
    {
      "cell_type": "code",
      "metadata": {
        "colab": {
          "base_uri": "https://localhost:8080/"
        },
        "id": "v-F5ZANgjasv",
        "outputId": "22cf0b8e-fa76-4ea9-bf77-b1ce160a6ebd"
      },
      "source": [
        "ypred"
      ],
      "execution_count": null,
      "outputs": [
        {
          "output_type": "execute_result",
          "data": {
            "text/plain": [
              "array([1, 1, 1, 1, 1, 0, 1, 1, 0, 1, 1, 1, 1, 1, 1, 1, 1, 1, 1, 0, 0, 1,\n",
              "       1, 1, 1, 1, 1, 1, 0, 0, 1, 1, 1, 1, 1, 0, 1, 1, 1, 1, 1, 0, 1, 1,\n",
              "       1, 1, 1, 1, 1, 1, 1, 1, 1, 1, 1, 1, 1, 1, 1, 1, 0, 1, 1, 0, 1, 1,\n",
              "       1, 1, 1, 1, 1, 1, 1, 1, 1, 1, 0, 1, 1, 0, 1, 1, 1, 1, 1, 1, 1, 1,\n",
              "       1, 1, 1, 1, 1, 0, 1, 0, 1, 1, 1, 1, 1, 1, 1, 1, 1, 1, 1, 1, 1, 1,\n",
              "       1, 1, 1, 1, 0, 1, 1, 1, 1, 1, 1, 0, 1, 1, 1, 0, 1, 1, 1, 1, 1, 1,\n",
              "       1, 1, 1, 1, 1, 1, 1, 1, 1, 1, 0, 1, 1, 1, 1, 1, 0, 0, 1, 1, 1, 0,\n",
              "       1, 1, 1, 1, 1, 1, 1, 1, 1, 1, 1, 1, 1, 1, 0, 1, 0, 1, 1, 1, 1, 1,\n",
              "       1, 1, 1, 1, 1, 1, 1, 1, 1, 1, 1, 1, 0, 1, 1, 1, 1, 1, 0, 1, 1, 1,\n",
              "       0, 1, 1, 1, 1, 0, 1])"
            ]
          },
          "metadata": {},
          "execution_count": 917
        }
      ]
    },
    {
      "cell_type": "code",
      "metadata": {
        "colab": {
          "base_uri": "https://localhost:8080/"
        },
        "id": "cbn-7DQzjasv",
        "outputId": "b4326061-19dd-4471-8a58-9eb4ce4410a0"
      },
      "source": [
        "# Measuring Accuracy\n",
        "from sklearn import metrics\n",
        "print('The accuracy of Logistic Regression is: ', metrics.accuracy_score(ypred, ytest))\n",
        "print('The F1 of Logistic Regression is: {0:0.4f}'. format(f1_score(ytest, ypred)))\n",
        "print('The Precision Score of Logistic Regression is: {0:0.4f}'. format(precision_score(ytest, ypred)))\n",
        "print('The Recall Score of Logistic Regression is: {0:0.4f}'. format(recall_score(ytest, ypred)))"
      ],
      "execution_count": null,
      "outputs": [
        {
          "output_type": "stream",
          "name": "stdout",
          "text": [
            "The accuracy of Logistic Regression is:  0.8292682926829268\n",
            "The F1 of Logistic Regression is: 0.8916\n",
            "The Precision Score of Logistic Regression is: 0.8090\n",
            "The Recall Score of Logistic Regression is: 0.9931\n"
          ]
        }
      ]
    },
    {
      "cell_type": "code",
      "metadata": {
        "colab": {
          "base_uri": "https://localhost:8080/",
          "height": 279
        },
        "id": "aCKyrNoOjasw",
        "outputId": "3cdc3c62-9fcb-46c5-f27b-f0085ad48e8c"
      },
      "source": [
        "# Making the Confusion Matrix\n",
        "from sklearn.metrics import confusion_matrix\n",
        "plot_confusion_matrix(LR, xtest, ytest)  \n",
        "plt.show() "
      ],
      "execution_count": null,
      "outputs": [
        {
          "output_type": "display_data",
          "data": {
            "image/png": "[encoded data removed]",
            "text/plain": [
              "<Figure size 432x288 with 2 Axes>"
            ]
          },
          "metadata": {
            "needs_background": "light"
          }
        }
      ]
    },
    {
      "cell_type": "code",
      "metadata": {
        "colab": {
          "base_uri": "https://localhost:8080/"
        },
        "id": "aA_ofRrSjasw",
        "outputId": "2c19fae1-2fff-4f66-9e89-778bd8a7bff0"
      },
      "source": [
        "cm"
      ],
      "execution_count": null,
      "outputs": [
        {
          "output_type": "execute_result",
          "data": {
            "text/plain": [
              "array([[  0,  60],\n",
              "       [  0, 145]])"
            ]
          },
          "metadata": {},
          "execution_count": 920
        }
      ]
    },
    {
      "cell_type": "markdown",
      "metadata": {
        "id": "6kZ7Gu2Vjasw"
      },
      "source": [
        "## Random Forest Classification"
      ]
    },
    {
      "cell_type": "markdown",
      "metadata": {
        "id": "CZ957GgKjasx"
      },
      "source": [
        "## Decision Tree Classification"
      ]
    },
    {
      "cell_type": "code",
      "metadata": {
        "colab": {
          "base_uri": "https://localhost:8080/"
        },
        "id": "BtWbjsrljasx",
        "outputId": "4cca3893-1a5e-41e9-e683-5e1f0973427d"
      },
      "source": [
        "# Fitting Decision Tree Classification to the Training set\n",
        "from sklearn.tree import DecisionTreeClassifier\n",
        "DTC = DecisionTreeClassifier(criterion = 'entropy', random_state = 0)\n",
        "DTC.fit(xtrain, ytrain)"
      ],
      "execution_count": null,
      "outputs": [
        {
          "output_type": "execute_result",
          "data": {
            "text/plain": [
              "DecisionTreeClassifier(ccp_alpha=0.0, class_weight=None, criterion='entropy',\n",
              "                       max_depth=None, max_features=None, max_leaf_nodes=None,\n",
              "                       min_impurity_decrease=0.0, min_impurity_split=None,\n",
              "                       min_samples_leaf=1, min_samples_split=2,\n",
              "                       min_weight_fraction_leaf=0.0, presort='deprecated',\n",
              "                       random_state=0, splitter='best')"
            ]
          },
          "metadata": {},
          "execution_count": 921
        }
      ]
    },
    {
      "cell_type": "code",
      "metadata": {
        "colab": {
          "base_uri": "https://localhost:8080/"
        },
        "id": "DQc41gs8jasx",
        "outputId": "c781efd8-dba4-45b4-a13d-9db46dd83c26"
      },
      "source": [
        "# Predicting the Test set results\n",
        "ypred = DTC.predict(xtest)\n",
        "ypred"
      ],
      "execution_count": null,
      "outputs": [
        {
          "output_type": "execute_result",
          "data": {
            "text/plain": [
              "array([0, 1, 0, 0, 1, 0, 0, 1, 0, 1, 0, 1, 1, 1, 1, 1, 0, 1, 1, 0, 0, 1,\n",
              "       1, 1, 1, 1, 1, 1, 0, 0, 1, 1, 1, 1, 1, 0, 0, 1, 1, 1, 0, 0, 1, 0,\n",
              "       0, 1, 1, 1, 1, 1, 0, 1, 1, 0, 1, 0, 1, 1, 1, 1, 0, 0, 1, 0, 1, 1,\n",
              "       1, 1, 1, 1, 1, 1, 0, 1, 1, 1, 1, 1, 0, 0, 1, 1, 1, 1, 1, 0, 1, 1,\n",
              "       1, 1, 1, 1, 1, 0, 1, 0, 1, 1, 0, 1, 1, 1, 1, 1, 1, 1, 1, 0, 1, 0,\n",
              "       1, 1, 1, 1, 0, 0, 0, 1, 1, 1, 1, 0, 0, 1, 0, 0, 1, 1, 1, 1, 1, 1,\n",
              "       1, 1, 1, 1, 0, 1, 1, 1, 1, 0, 0, 1, 1, 1, 1, 0, 0, 0, 1, 1, 1, 0,\n",
              "       1, 1, 1, 1, 1, 1, 1, 1, 0, 0, 1, 1, 1, 1, 0, 1, 1, 1, 1, 1, 0, 1,\n",
              "       0, 1, 1, 1, 1, 1, 1, 1, 1, 1, 0, 1, 0, 1, 1, 1, 1, 1, 0, 1, 1, 1,\n",
              "       0, 1, 1, 1, 0, 0, 1])"
            ]
          },
          "metadata": {},
          "execution_count": 922
        }
      ]
    },
    {
      "cell_type": "code",
      "metadata": {
        "colab": {
          "base_uri": "https://localhost:8080/"
        },
        "id": "MPey_ovXjasx",
        "outputId": "06b702ff-b11c-48b0-de3a-d2ebeff014a9"
      },
      "source": [
        "# Measuring Accuracy\n",
        "print('The accuracy of Decision Tree Classifier is: ', metrics.accuracy_score(ypred, ytest))\n",
        "print('The F1 of Decision Tree Classifier is: {0:0.4f}'. format(f1_score(ytest, ypred)))\n",
        "print('The Precision Score of Decision Tree Classifier is: {0:0.4f}'. format(precision_score(ytest, ypred)))\n",
        "print('The Recall Score of Decision Tree Classifier is: {0:0.4f}'. format(recall_score(ytest, ypred)))"
      ],
      "execution_count": null,
      "outputs": [
        {
          "output_type": "stream",
          "name": "stdout",
          "text": [
            "The accuracy of Decision Tree Classifier is:  0.7268292682926829\n",
            "The F1 of Decision Tree Classifier is: 0.8082\n",
            "The Precision Score of Decision Tree Classifier is: 0.8027\n",
            "The Recall Score of Decision Tree Classifier is: 0.8138\n"
          ]
        }
      ]
    },
    {
      "cell_type": "code",
      "metadata": {
        "colab": {
          "base_uri": "https://localhost:8080/",
          "height": 313
        },
        "id": "dZ5ggXBdjasy",
        "outputId": "20310491-fe21-41a5-d359-5fb5f41fb85b"
      },
      "source": [
        "# Making confusion matrix\n",
        "print(confusion_matrix(ytest, ypred))\n",
        "plot_confusion_matrix(DTC, xtest, ytest)  \n",
        "plt.show() "
      ],
      "execution_count": null,
      "outputs": [
        {
          "output_type": "stream",
          "name": "stdout",
          "text": [
            "[[ 31  29]\n",
            " [ 27 118]]\n"
          ]
        },
        {
          "output_type": "display_data",
          "data": {
            "image/png": "[encoded data removed]",
            "text/plain": [
              "<Figure size 432x288 with 2 Axes>"
            ]
          },
          "metadata": {
            "needs_background": "light"
          }
        }
      ]
    },
    {
      "cell_type": "markdown",
      "metadata": {
        "id": "h6jRAhzyjasy"
      },
      "source": [
        ""
      ]
    },
    {
      "cell_type": "code",
      "metadata": {
        "id": "Vj0UYIUrjasy"
      },
      "source": [
        "# from sklearn.model_selection import GridSearchCV\n"
      ],
      "execution_count": null,
      "outputs": []
    },
    {
      "cell_type": "code",
      "metadata": {
        "colab": {
          "base_uri": "https://localhost:8080/"
        },
        "id": "1f_niZBFjasy",
        "outputId": "5de8ad5c-0cb2-492d-b526-a10761853989"
      },
      "source": [
        "from xgboost import XGBClassifier\n",
        "# parameters = {'alpha': (0.1, 10), 'max_depth': (5, 10), 'learning_rate': (0.1, 1)}\n",
        "XGB = XGBClassifier()\n",
        "XGB.fit(xtrain, ytrain)"
      ],
      "execution_count": null,
      "outputs": [
        {
          "output_type": "execute_result",
          "data": {
            "text/plain": [
              "XGBClassifier(base_score=0.5, booster='gbtree', colsample_bylevel=1,\n",
              "              colsample_bynode=1, colsample_bytree=1, gamma=0,\n",
              "              learning_rate=0.1, max_delta_step=0, max_depth=3,\n",
              "              min_child_weight=1, missing=None, n_estimators=100, n_jobs=1,\n",
              "              nthread=None, objective='binary:logistic', random_state=0,\n",
              "              reg_alpha=0, reg_lambda=1, scale_pos_weight=1, seed=None,\n",
              "              silent=None, subsample=1, verbosity=1)"
            ]
          },
          "metadata": {},
          "execution_count": 926
        }
      ]
    },
    {
      "cell_type": "code",
      "metadata": {
        "colab": {
          "base_uri": "https://localhost:8080/"
        },
        "id": "fClrvjbAjasz",
        "outputId": "44e1c358-ed5f-440d-e6e3-e65090f08df4"
      },
      "source": [
        "ypred = XGB.predict(xtest)\n",
        "print('XGBoost model accuracy score: {0:0.4f}'. format(accuracy_score(ytest, ypred)))\n",
        "print('XGBoost model F1 score: {0:0.4f}'. format(f1_score(ytest, ypred)))\n",
        "print('XGBoost model precision score: {0:0.4f}'. format(precision_score(ytest, ypred)))\n",
        "print('XGBoost model recall score: {0:0.4f}'. format(recall_score(ytest, ypred)))"
      ],
      "execution_count": null,
      "outputs": [
        {
          "output_type": "stream",
          "name": "stdout",
          "text": [
            "XGBoost model accuracy score: 0.8049\n",
            "XGBoost model F1 score: 0.8742\n",
            "XGBoost model precision score: 0.8035\n",
            "XGBoost model recall score: 0.9586\n"
          ]
        }
      ]
    },
    {
      "cell_type": "code",
      "metadata": {
        "colab": {
          "base_uri": "https://localhost:8080/"
        },
        "id": "BZTD6kJ-jasz",
        "outputId": "b62f5ee7-5d58-498e-b2df-3f8994f637ed"
      },
      "source": [
        "plot_confusion_matrix(XGB, xtest, ytest)  \n",
        "plt.show() "
      ],
      "execution_count": null,
      "outputs": [
        {
          "output_type": "display_data",
          "data": {
            "image/png": "[encoded data removed]",
            "text/plain": [
              "<Figure size 432x288 with 2 Axes>"
            ]
          },
          "metadata": {
            "needs_background": "light"
          }
        }
      ]
    },
    {
      "cell_type": "markdown",
      "metadata": {
        "id": "ucvU0dIVjasz"
      },
      "source": [
        "# Result:"
      ]
    },
    {
      "cell_type": "markdown",
      "metadata": {
        "id": "l6WFnjajjasz"
      },
      "source": [
        "The accuracy of Logistic Regression is:  82.92 %\n",
        "\n",
        "The accuracy of XGBoost Model is: 72.68 %\n",
        "\n",
        "The accuracy of Decision Tree Classifier is: 80.49 %"
      ]
    },
    {
      "cell_type": "markdown",
      "metadata": {
        "id": "UXLJFFbcjasz"
      },
      "source": [
        "From the above models and their respective results, the accuracies reflect that the best model among these is Logistic Regression and is to be preferred over the other two models.\n",
        "\n",
        "Other interesting fact is that the accuracies of Logistic Regression and XGBoost Model are quite comparable."
      ]
    }
  ]
}